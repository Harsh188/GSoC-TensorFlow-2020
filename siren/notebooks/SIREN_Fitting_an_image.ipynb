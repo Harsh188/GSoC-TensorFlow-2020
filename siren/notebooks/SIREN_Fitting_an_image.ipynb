{
  "nbformat": 4,
  "nbformat_minor": 0,
  "metadata": {
    "colab": {
      "name": "SIREN - Fitting an image",
      "provenance": [],
      "collapsed_sections": []
    },
    "kernelspec": {
      "name": "python3",
      "display_name": "Python 3"
    }
  },
  "cells": [
    {
      "cell_type": "markdown",
      "metadata": {
        "id": "ipzfEztlpdhz",
        "colab_type": "text"
      },
      "source": [
        "## SIREN - Implicit Neural Representations with Periodic Activation Functions\n",
        "Explorations for fitting an image"
      ]
    },
    {
      "cell_type": "code",
      "metadata": {
        "id": "xRdLbSSPpfal",
        "colab_type": "code",
        "colab": {
          "base_uri": "https://localhost:8080/",
          "height": 34
        },
        "outputId": "04933b23-c9b9-41a7-b217-104c351a3c7d"
      },
      "source": [
        "import tensorflow as tf\n",
        "print(tf.version.VERSION)\n",
        "\n",
        "from PIL import Image\n",
        "import numpy as np\n",
        "import skimage\n",
        "import time"
      ],
      "execution_count": null,
      "outputs": [
        {
          "output_type": "stream",
          "text": [
            "2.3.0\n"
          ],
          "name": "stdout"
        }
      ]
    },
    {
      "cell_type": "code",
      "metadata": {
        "id": "f4BGb_vGtBd-",
        "colab_type": "code",
        "colab": {}
      },
      "source": [
        "from tensorflow.keras.layers import Dense\n",
        "from tensorflow.keras.models import Sequential"
      ],
      "execution_count": null,
      "outputs": []
    },
    {
      "cell_type": "code",
      "metadata": {
        "id": "Xry8_CbIpfie",
        "colab_type": "code",
        "colab": {}
      },
      "source": [
        "def get_meshgrid(sidelen, dim=2):\n",
        "    '''Generates a flattened grid of (x,y,...) coordinates in a range [-1,1]'''\n",
        "    tensors = tuple(dim * [tf.linspace(-1, 1, num=sidelen)])\n",
        "    meshgrid = tf.stack(tf.meshgrid(*tensors), axis=-1)\n",
        "    meshgrid = tf.reshape(meshgrid, shape=[-1, dim])\n",
        "    return meshgrid"
      ],
      "execution_count": null,
      "outputs": []
    },
    {
      "cell_type": "code",
      "metadata": {
        "id": "QYGnEWSppfkk",
        "colab_type": "code",
        "colab": {}
      },
      "source": [
        "class SineLayer(tf.keras.Model):\n",
        "    \"\"\"omega_0 is a frequency factor which multiplies the outputs prior activations.\n",
        "    Since different signals may require different omega_0, it is a hyperparameter.\n",
        "    \"\"\"\n",
        "    def __init__(self, in_features, num_features, bias=True, is_first=False, omega_0=30, **kwargs):\n",
        "        super(SineLayer, self).__init__(**kwargs)\n",
        "        self.omega_0 = omega_0\n",
        "        self.is_first = is_first\n",
        "        self.in_features = in_features\n",
        "\n",
        "        if self.is_first:\n",
        "            initializer = tf.random_uniform_initializer(minval=-1 / self.in_features,\n",
        "                                                        maxval=1 / self.in_features)\n",
        "            self.dense = Dense(num_features, use_bias=bias, kernel_initializer=initializer)\n",
        "        else:\n",
        "            initializer = tf.random_uniform_initializer(\n",
        "                minval=-tf.math.sqrt(6 / self.in_features) / self.omega_0,\n",
        "                maxval=tf.math.sqrt(6 / self.in_features) / self.omega_0)\n",
        "            self.dense = Dense(num_features, use_bias=bias, kernel_initializer=initializer)\n",
        "        \n",
        "    def call(self, inputs):\n",
        "        return tf.math.sin(self.omega_0 * self.dense(inputs))\n",
        "\n",
        "    def call_intermediate(self, inputs):\n",
        "        intermediate = self.omega_0 * self.dense(inputs)\n",
        "        return tf.math.sin(intermediate), intermediate"
      ],
      "execution_count": null,
      "outputs": []
    },
    {
      "cell_type": "code",
      "metadata": {
        "id": "821lXKR0v5sY",
        "colab_type": "code",
        "colab": {}
      },
      "source": [
        "class Siren(tf.keras.Model):\n",
        "    def __init__(self, in_features, hidden_features, hidden_layers, num_features, \n",
        "                 outer_dense=False, first_omega_0=30, hidden_omega_0=30., **kwargs):\n",
        "        super(Siren, self).__init__(**kwargs)\n",
        "\n",
        "        self.net = []\n",
        "        self.net.append(SineLayer(in_features, hidden_features, \n",
        "                                  is_first=True, omega_0=first_omega_0))\n",
        "\n",
        "        for i in range(hidden_layers):\n",
        "            self.net.append(SineLayer(hidden_features, hidden_features, \n",
        "                                      is_first=False, omega_0=hidden_omega_0))\n",
        "\n",
        "        if outer_dense:\n",
        "            initializer = tf.random_uniform_initializer(\n",
        "                minval=-tf.math.sqrt(6 / hidden_features) / hidden_omega_0,\n",
        "                maxval=tf.math.sqrt(6 / hidden_features) / hidden_omega_0)\n",
        "            final_dense = Dense(num_features)    \n",
        "\n",
        "            self.net.append(final_dense)\n",
        "        else:\n",
        "            self.net.append(SineLayer(hidden_features, num_features, \n",
        "                                      is_first=False, omega_0=hidden_omega_0))\n",
        "        \n",
        "        self.net = Sequential(*self.net)\n",
        "\n",
        "\n",
        "    def forward(self, coords):\n",
        "        coords = tf.Variable(coords.copy())\n",
        "        output = self.net(coords)\n",
        "        return output, coords\n",
        "\n",
        "        def forward_with_activations(self, coords, retain_grad=False):\n",
        "            '''Returns not only model output, but also intermediate activations.\n",
        "            Only used for visualizing activations later'''\n",
        "            activations = OrderedDict()\n",
        "\n",
        "            activation_count = 0\n",
        "            x = tf.Variable(coords.copy())\n",
        "            activations['input'] = x\n",
        "            for i, layer in enumerate(self.net):\n",
        "                if isinstance(layer, SineLayer):\n",
        "                    x, intermed = layer.forward_with_intermediate(x)\n",
        "                        \n",
        "                    activations['_'.join((str(layer.__class__), \"%d\" % activation_count))] = intermed\n",
        "                    activation_count += 1\n",
        "                else: \n",
        "                    x = layer(x)\n",
        "                        \n",
        "                activations['_'.join((str(layer.__class__), \"%d\" % activation_count))] = x\n",
        "                activation_count += 1\n",
        "\n",
        "            return activations"
      ],
      "execution_count": null,
      "outputs": []
    },
    {
      "cell_type": "code",
      "metadata": {
        "id": "UPCTcXdgxKI_",
        "colab_type": "code",
        "colab": {}
      },
      "source": [
        "def laplace(y, x):\n",
        "    grad = gradient(y, x)\n",
        "    return divergence(grad, x)\n",
        "\n",
        "@tf.function\n",
        "def divergence(y, x):\n",
        "    div = 0.\n",
        "    for i in range(y.shape[-1]):\n",
        "        div += tf.gradeints(y[..., i], x, tf.ones_like(y[..., i]))[0][..., i:i+1]\n",
        "    return div\n",
        "\n",
        "@tf.function\n",
        "def gradient(y, x, grad_outputs=None):\n",
        "    if grad_outputs is None:\n",
        "        grad_outputs = tf.ones_like(y)\n",
        "    grad = tf.gradients(y, [x])[0]\n",
        "    return grad"
      ],
      "execution_count": null,
      "outputs": []
    },
    {
      "cell_type": "code",
      "metadata": {
        "id": "BhKjxWEjyQSg",
        "colab_type": "code",
        "colab": {}
      },
      "source": [
        "def get_cameraman_tensor(sidelength):\n",
        "    img = Image.fromarray(skimage.data.camera()) \n",
        "    img = tf.keras.preprocessing.image.img_to_array(img)\n",
        "    img = tf.image.convert_image_dtype(img, tf.float32)\n",
        "    img = tf.image.resize(img, [sidelength, sidelength])\n",
        "    img /= 255.\n",
        "    return img"
      ],
      "execution_count": null,
      "outputs": []
    },
    {
      "cell_type": "code",
      "metadata": {
        "id": "tNlKfbvCzpl7",
        "colab_type": "code",
        "colab": {}
      },
      "source": [
        "rows, cols, channels = 256, 256, 3\n",
        "sampled_pixel_count = int(256*256*0.1)\n",
        "\n",
        "def build_train_tensors():\n",
        "    img_mask_x = tf.random.uniform([sampled_pixel_count], maxval=rows, seed=0, dtype=tf.int32)\n",
        "    img_mask_y = tf.random.uniform([sampled_pixel_count], maxval=cols, seed=1, dtype=tf.int32)\n",
        "\n",
        "    img_mask_x = tf.expand_dims(img_mask_x, axis=-1)\n",
        "    img_mask_y = tf.expand_dims(img_mask_y, axis=-1)\n",
        "\n",
        "    img_mask_idx = tf.concat([img_mask_x, img_mask_y], axis=-1)\n",
        "    img_train = tf.gather_nd(img_ground_truth, img_mask_idx, batch_dims=0)\n",
        "\n",
        "    img_mask_x = tf.cast(img_mask_x, tf.float32) / rows\n",
        "    img_mask_y = tf.cast(img_mask_y, tf.float32) / cols\n",
        "\n",
        "    img_mask = tf.concat([img_mask_x, img_mask_y], axis=-1)\n",
        "\n",
        "    return img_mask, img_train\n",
        "\n",
        "\n",
        "img_mask, img_train = build_train_tensors()\n",
        "\n",
        "train_dataset = tf.data.Dataset.from_tensor_slices((img_mask, img_train))\n",
        "train_dataset = train_dataset.shuffle(1000).batch(BATCH_SIZE).cache()\n",
        "train_dataset = train_dataset.prefetch(tf.data.experimental.AUTOTUNE)"
      ],
      "execution_count": null,
      "outputs": []
    },
    {
      "cell_type": "code",
      "metadata": {
        "id": "3V7U8CkNyQUk",
        "colab_type": "code",
        "colab": {}
      },
      "source": [
        "cameraman = ImageFitting(256)\n",
        "img_siren = Siren(in_features=2, out_features=1, hidden_features=256, \n",
        "                  hidden_layers=3, outermost_linear=True)"
      ],
      "execution_count": null,
      "outputs": []
    },
    {
      "cell_type": "code",
      "metadata": {
        "id": "WuG7IWq-zOwj",
        "colab_type": "code",
        "colab": {}
      },
      "source": [
        "total_steps = 500 # Since the whole image is our dataset, this just means 500 gradient descent steps.\n",
        "steps_til_summary = 10\n",
        "\n",
        "optimizer = tf.keras.optimizers.Adam(learning_rate=1e-4)\n",
        "\n",
        "model_input, ground_truth = next(train_dataset))\n",
        "\n",
        "for step in range(total_steps):\n",
        "    with tf.GradientTape() as tape:\n",
        "        model_output, coords = img_siren(model_input)    \n",
        "        loss = ((model_output - ground_truth)**2).mean()\n",
        "    \n",
        "        if not step % steps_til_summary:\n",
        "            print(\"Step %d, Total loss %0.6f\" % (step, loss))\n",
        "            img_grad = gradient(model_output, coords)\n",
        "            img_laplacian = laplace(model_output, coords)\n",
        "\n",
        "            fig, axes = plt.subplots(1,3, figsize=(18,6))\n",
        "            axes[0].imshow(tf.reshape(model_output.numpy(), [256,256]))\n",
        "            axes[1].imshow(tf.reshape(img_grad.numpy().norm(dim=-1), [256,256]))\n",
        "            axes[2].imshow(tf.reshape(img_laplacian.numpy(), 256,256))\n",
        "            plt.show()\n",
        "\n",
        "    grads = tape.gradient(loss, img_siren.trainable_parameters())\n",
        "    optimizer.apply_gradients(zip(grads, img_siren.trainable_parameters()))"
      ],
      "execution_count": null,
      "outputs": []
    },
    {
      "cell_type": "code",
      "metadata": {
        "id": "OmnRqdG64g-a",
        "colab_type": "code",
        "colab": {}
      },
      "source": [
        ""
      ],
      "execution_count": null,
      "outputs": []
    }
  ]
}